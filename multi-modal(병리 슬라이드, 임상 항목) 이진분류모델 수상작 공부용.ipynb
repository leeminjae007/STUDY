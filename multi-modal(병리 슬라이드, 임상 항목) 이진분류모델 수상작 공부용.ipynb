{
 "cells": [
  {
   "cell_type": "markdown",
   "id": "2055e7e2",
   "metadata": {},
   "source": [
    "사용 model : xgb, lgbm, cat, RF, inceptionV3  \n",
    "  \n",
    "table데이터만을 사용한 모델과 이미지만을 사용한 모델을 각각 만든 후 예측  \n",
    "예측한 결과(확률)를 비율로 섞어 최종 예측을 만든 후 제출  \n",
    "table 데이터 : 80%(xgb, lgbm, cat, rf 각각 20%씩) 이미지 데이터 : 20%"
   ]
  },
  {
   "cell_type": "code",
   "execution_count": null,
   "id": "6240d063",
   "metadata": {},
   "outputs": [],
   "source": [
    "import tensorflow as tf\n",
    "from tensorflow import keras\n",
    "import pandas as pd\n",
    "import matplotlib.pyplot as plt\n",
    "import seaborn as sns\n",
    "import numpy as np\n",
    "import os\n",
    "import cv2\n",
    "import albumentations as A\n",
    "os.environ['TF_CPP_MIN_LOG_LEVEL'] = '3'"
   ]
  },
  {
   "cell_type": "markdown",
   "id": "e8dabff0",
   "metadata": {},
   "source": [
    "GPU 사용"
   ]
  },
  {
   "cell_type": "code",
   "execution_count": null,
   "id": "c826a165",
   "metadata": {},
   "outputs": [],
   "source": [
    "from tensorflow.python.client import device_lib\n",
    "device_lib.list_local_devices()"
   ]
  },
  {
   "cell_type": "markdown",
   "id": "3d6bd21a",
   "metadata": {},
   "source": [
    "Data받기(수술연월일 = parse_date로 받기)"
   ]
  },
  {
   "cell_type": "code",
   "execution_count": null,
   "id": "76bcfcb1",
   "metadata": {},
   "outputs": [],
   "source": [
    "path = 'D:/Dataset/Competitons/cancer/'\n",
    "train = pd.read_csv(path + 'train.csv', parse_dates=[\"수술연월일\"]).copy()\n",
    "test = pd.read_csv(path + 'test.csv', parse_dates=[\"수술연월일\"]).copy()\n",
    "clinical_info = pd.read_excel(path + 'clinical_info.xlsx').copy()"
   ]
  },
  {
   "cell_type": "code",
   "execution_count": null,
   "id": "b678972f",
   "metadata": {},
   "outputs": [],
   "source": [
    "train"
   ]
  },
  {
   "cell_type": "markdown",
   "id": "dfded5e1",
   "metadata": {},
   "source": [
    "비어있는 값 확인"
   ]
  },
  {
   "cell_type": "code",
   "execution_count": null,
   "id": "b46513f1",
   "metadata": {},
   "outputs": [],
   "source": [
    "train.isna().sum()"
   ]
  },
  {
   "cell_type": "markdown",
   "id": "4b327bcb",
   "metadata": {},
   "source": [
    "column 이름 확인"
   ]
  },
  {
   "cell_type": "code",
   "execution_count": null,
   "id": "991bb70f",
   "metadata": {},
   "outputs": [],
   "source": [
    "train.columns.unique()"
   ]
  },
  {
   "cell_type": "markdown",
   "id": "e1e591a6",
   "metadata": {},
   "source": [
    "'수술연월일'을 year, month, day, quarter로 쪼개서 새 columns로 추가"
   ]
  },
  {
   "cell_type": "code",
   "execution_count": null,
   "id": "4c6976fa",
   "metadata": {},
   "outputs": [],
   "source": [
    "def date_split(df):\n",
    "\n",
    "    df['year'] = df['수술연월일'].dt.year\n",
    "    df['month'] = df['수술연월일'].dt.month\n",
    "    df['day'] = df['수술연월일'].dt.day\n",
    "    df['quarter'] = df['수술연월일'].dt.quarter\n",
    "\n",
    "    return df\n",
    "    \n",
    "train = date_split(train)\n",
    "test = date_split(test)\n",
    "train"
   ]
  },
  {
   "cell_type": "markdown",
   "id": "0c116118",
   "metadata": {},
   "source": [
    "비어있는 값 채우기"
   ]
  },
  {
   "cell_type": "code",
   "execution_count": null,
   "id": "0f6f1ea9",
   "metadata": {},
   "outputs": [],
   "source": [
    "train['암의 장경'] = train['암의 장경'].fillna(train['암의 장경'].mean())\n",
    "train = train.fillna(0)\n",
    "\n",
    "test['암의 장경'] = test['암의 장경'].fillna(train['암의 장경'].mean())\n",
    "test = test.fillna(0)"
   ]
  },
  {
   "cell_type": "markdown",
   "id": "f7ca6760",
   "metadata": {},
   "source": [
    "label값 복사"
   ]
  },
  {
   "cell_type": "code",
   "execution_count": null,
   "id": "dd730ea6",
   "metadata": {},
   "outputs": [],
   "source": [
    "label = train['N_category'].values.copy()"
   ]
  },
  {
   "cell_type": "markdown",
   "id": "cb6abd9b",
   "metadata": {},
   "source": [
    "ID, mask_path 제거 후 각각 train_table, test_table로 저장  \n",
    "현재의 모델은 table데이터들만 사용하는 모델이지만, img_path는 나중에 따로 뺀 후 제거 예정"
   ]
  },
  {
   "cell_type": "code",
   "execution_count": null,
   "id": "1cd31cfa",
   "metadata": {},
   "outputs": [],
   "source": [
    "ignore_cols_train = ['ID', 'mask_path', '수술연월일', 'N_category']\n",
    "ignore_cols_test = ['ID', 'img_path', '수술연월일']\n",
    "\n",
    "train_table = train.drop(ignore_cols_train, axis = 1).copy()\n",
    "test_table = test.drop(ignore_cols_test, axis = 1).copy()\n",
    "train_table"
   ]
  },
  {
   "cell_type": "markdown",
   "id": "6b3ce25a",
   "metadata": {},
   "source": [
    "train_test_split으로 val데이터 생성(성능 check위해)"
   ]
  },
  {
   "cell_type": "code",
   "execution_count": null,
   "id": "52bf5f37",
   "metadata": {},
   "outputs": [],
   "source": [
    "from sklearn.model_selection import train_test_split\n",
    "X_train, X_val, y_train, y_val = train_test_split(train_table, label, random_state = 42)"
   ]
  },
  {
   "cell_type": "code",
   "execution_count": null,
   "id": "1ce93b8b",
   "metadata": {},
   "outputs": [],
   "source": [
    "X_train"
   ]
  },
  {
   "cell_type": "markdown",
   "id": "b99db6fa",
   "metadata": {},
   "source": [
    "train에 있는 img_path만 따로 저장(각각 X_train_img 와 X_val_img)  \n",
    "현재 dataset은 코드저장되어있는 부분과 다른 곳에 위치하므로, path수정후 저장"
   ]
  },
  {
   "cell_type": "code",
   "execution_count": null,
   "id": "f385317f",
   "metadata": {
    "scrolled": false
   },
   "outputs": [],
   "source": [
    "X_train_img = X_train['img_path'].values.copy()\n",
    "X_train_img = [path + j[2:] for j in X_train_img]\n",
    "X_train_img = np.reshape(X_train_img, (len(X_train_img)))\n",
    "\n",
    "X_val_img = X_val['img_path'].values.copy()\n",
    "X_val_img = [path + j[2:] for j in X_val_img]\n",
    "X_val_img = np.reshape(X_val_img, (len(X_val_img)))"
   ]
  },
  {
   "cell_type": "markdown",
   "id": "f24a113d",
   "metadata": {},
   "source": [
    "img_path 따로 뺐으니, X_train, X_val에서 img_path 제거"
   ]
  },
  {
   "cell_type": "code",
   "execution_count": null,
   "id": "8cc8e359",
   "metadata": {},
   "outputs": [],
   "source": [
    "ignore_img = ['img_path']\n",
    "\n",
    "X_train = X_train.drop(ignore_img, axis = 1)\n",
    "X_val = X_val.drop(ignore_img, axis = 1)"
   ]
  },
  {
   "cell_type": "markdown",
   "id": "2192fa16",
   "metadata": {},
   "source": [
    "XGBClassifier  \n",
    "xgboost가 없는 경우 : !pip install xgboost"
   ]
  },
  {
   "cell_type": "code",
   "execution_count": null,
   "id": "c1054061",
   "metadata": {},
   "outputs": [],
   "source": [
    "from xgboost import XGBRFClassifier\n",
    "\n",
    "xgb = XGBRFClassifier(random_state = 42)\n",
    "xgb.fit(X_train, y_train, eval_set = [(X_val, y_val)])"
   ]
  },
  {
   "cell_type": "markdown",
   "id": "4e8e66e9",
   "metadata": {},
   "source": [
    "test_table 예측 확인"
   ]
  },
  {
   "cell_type": "code",
   "execution_count": null,
   "id": "2d43331c",
   "metadata": {},
   "outputs": [],
   "source": [
    "xgb.predict(test_table)"
   ]
  },
  {
   "cell_type": "markdown",
   "id": "bbedf2b8",
   "metadata": {},
   "source": [
    "test_table 예측 한 확률을 각각 출력후 저장  \n",
    "예측 확률로 한 이유 ; 이후 각 예측 확률을 더해 최종 예측을 만들기 위해"
   ]
  },
  {
   "cell_type": "code",
   "execution_count": null,
   "id": "f59915ad",
   "metadata": {
    "scrolled": false
   },
   "outputs": [],
   "source": [
    "xgb_pred = xgb.predict_proba(test_table)"
   ]
  },
  {
   "cell_type": "markdown",
   "id": "92eb5994",
   "metadata": {},
   "source": [
    "CatBoostClassifier  \n",
    "catboost가 없는 경우 : !pip install catboost"
   ]
  },
  {
   "cell_type": "code",
   "execution_count": null,
   "id": "74c8b60c",
   "metadata": {},
   "outputs": [],
   "source": [
    "from catboost import CatBoostClassifier\n",
    "\n",
    "cat = CatBoostClassifier(random_state = 42, verbose = 0)\n",
    "cat.fit(X_train, y_train, eval_set = [(X_val, y_val)])"
   ]
  },
  {
   "cell_type": "markdown",
   "id": "f566735c",
   "metadata": {},
   "source": [
    "test_table cat으로 예측 확인"
   ]
  },
  {
   "cell_type": "code",
   "execution_count": null,
   "id": "ded7ae55",
   "metadata": {},
   "outputs": [],
   "source": [
    "cat.predict(test_table)"
   ]
  },
  {
   "cell_type": "markdown",
   "id": "cc3c9118",
   "metadata": {},
   "source": [
    "예측 확률 저장"
   ]
  },
  {
   "cell_type": "code",
   "execution_count": null,
   "id": "0a80d79b",
   "metadata": {
    "scrolled": false
   },
   "outputs": [],
   "source": [
    "cat_pred = cat.predict_proba(test_table)"
   ]
  },
  {
   "cell_type": "markdown",
   "id": "e39231c9",
   "metadata": {},
   "source": [
    "ExtraTreesClassifier"
   ]
  },
  {
   "cell_type": "code",
   "execution_count": null,
   "id": "09142ec0",
   "metadata": {},
   "outputs": [],
   "source": [
    "from sklearn.ensemble import ExtraTreesClassifier\n",
    "\n",
    "ex_clf = ExtraTreesClassifier(random_state = 42)\n",
    "ex_clf.fit(X_train, y_train)"
   ]
  },
  {
   "cell_type": "code",
   "execution_count": null,
   "id": "936f9f78",
   "metadata": {},
   "outputs": [],
   "source": [
    "ex_clf.predict(test_table)"
   ]
  },
  {
   "cell_type": "code",
   "execution_count": null,
   "id": "64bbeb7e",
   "metadata": {},
   "outputs": [],
   "source": [
    "ex_pred = ex_clf.predict_proba(test_table)"
   ]
  },
  {
   "cell_type": "markdown",
   "id": "b3a78289",
   "metadata": {},
   "source": [
    "RandomForestClassifier"
   ]
  },
  {
   "cell_type": "code",
   "execution_count": null,
   "id": "ca0d537b",
   "metadata": {},
   "outputs": [],
   "source": [
    "from sklearn.ensemble import RandomForestClassifier\n",
    "\n",
    "rf = RandomForestClassifier(random_state = 42)\n",
    "rf.fit(X_train, y_train)"
   ]
  },
  {
   "cell_type": "code",
   "execution_count": null,
   "id": "ef01ef3b",
   "metadata": {},
   "outputs": [],
   "source": [
    "rf.predict(test_table)"
   ]
  },
  {
   "cell_type": "code",
   "execution_count": null,
   "id": "0490f902",
   "metadata": {},
   "outputs": [],
   "source": [
    "rf_pred = rf.predict_proba(test_table)"
   ]
  },
  {
   "cell_type": "markdown",
   "id": "0e227586",
   "metadata": {},
   "source": [
    "LGBMClassifier  \n",
    "lightgbm이 없는 경우 : !pip install lightgbm"
   ]
  },
  {
   "cell_type": "code",
   "execution_count": null,
   "id": "a8757058",
   "metadata": {},
   "outputs": [],
   "source": [
    "from lightgbm import LGBMClassifier\n",
    "\n",
    "lgbm = LGBMClassifier(random_state = 42)\n",
    "lgbm.fit(X_train, y_train)"
   ]
  },
  {
   "cell_type": "code",
   "execution_count": null,
   "id": "31c5e26e",
   "metadata": {},
   "outputs": [],
   "source": [
    "lgbm.predict(test_table)"
   ]
  },
  {
   "cell_type": "code",
   "execution_count": null,
   "id": "1c1c3b5f",
   "metadata": {},
   "outputs": [],
   "source": [
    "lgbm_pred = lgbm.predict_proba(test_table)"
   ]
  },
  {
   "cell_type": "markdown",
   "id": "c99462c6",
   "metadata": {},
   "source": [
    "f1_score확인  \n",
    "성능 확인 방법 : model에 넣지 않은 val을 넣고 성능 확인"
   ]
  },
  {
   "cell_type": "code",
   "execution_count": null,
   "id": "5c9df6f3",
   "metadata": {},
   "outputs": [],
   "source": [
    "from sklearn.metrics import f1_score\n",
    "def scoring(y, pred):\n",
    "    score = f1_score(y_true = y, y_pred = pred)\n",
    "    print(score)"
   ]
  },
  {
   "cell_type": "markdown",
   "id": "01880f70",
   "metadata": {},
   "source": [
    " score찍어서 확인"
   ]
  },
  {
   "cell_type": "code",
   "execution_count": null,
   "id": "587bd62e",
   "metadata": {},
   "outputs": [],
   "source": [
    "model = [xgb, cat, rf, ex_clf, lgbm]\n",
    "for i in model:\n",
    "    print(str(i))\n",
    "    print(i.score(X_val, y_val))"
   ]
  },
  {
   "cell_type": "markdown",
   "id": "641a9e0e",
   "metadata": {},
   "source": [
    "f1_score 점수 확인"
   ]
  },
  {
   "cell_type": "code",
   "execution_count": null,
   "id": "b93d6260",
   "metadata": {},
   "outputs": [],
   "source": [
    "for i in model:\n",
    "    print(str(i))\n",
    "    print(scoring(y_val, i.predict(X_val)))"
   ]
  },
  {
   "cell_type": "markdown",
   "id": "a67a517c",
   "metadata": {},
   "source": [
    "Extra는 RF와 비슷하므로 둘 중 낮은 값인 Extra는 사용 X"
   ]
  },
  {
   "cell_type": "markdown",
   "id": "9d6dc91a",
   "metadata": {},
   "source": [
    "Image모델(InceptionV3 사용)"
   ]
  },
  {
   "cell_type": "markdown",
   "id": "de634ec8",
   "metadata": {},
   "source": [
    "test의 img_path 역시 dataset이 위치한 곳으로 수정 후 따로 저장"
   ]
  },
  {
   "cell_type": "code",
   "execution_count": null,
   "id": "8019557d",
   "metadata": {},
   "outputs": [],
   "source": [
    "test_img = test['img_path'].values.copy()\n",
    "test_img = [path + j[2:] for j in test_img]\n",
    "test_img = np.reshape(test_img, (len(test_img)))"
   ]
  },
  {
   "cell_type": "markdown",
   "id": "65cf6a55",
   "metadata": {},
   "source": [
    "잘 수정되었는지 확인"
   ]
  },
  {
   "cell_type": "code",
   "execution_count": null,
   "id": "63832eec",
   "metadata": {},
   "outputs": [],
   "source": [
    "X_train_img[0]"
   ]
  },
  {
   "cell_type": "markdown",
   "id": "f8063c69",
   "metadata": {},
   "source": [
    "img_size 지정 img_resize"
   ]
  },
  {
   "cell_type": "code",
   "execution_count": null,
   "id": "690f1a4a",
   "metadata": {},
   "outputs": [],
   "source": [
    "img_size = 512\n",
    "img_channel = 3\n",
    "batch = 8\n",
    "\n",
    "resize_crop = A.Compose([\n",
    "    A.Resize(img_size, img_size, interpolation = cv2.INTER_AREA)\n",
    "])"
   ]
  },
  {
   "cell_type": "markdown",
   "id": "f101b89f",
   "metadata": {},
   "source": [
    "CustomSequence제작  \n",
    "img dataset을 사용한 이유 : 데이터 양이 너무 커서 컴퓨터가 버티질 못해 사용....ㅠ  \n",
    "dataset을 사용하니 메모리가 터지지는 않으나, 너무 느려짐.....ㅠㅜㅠㅜㅠ"
   ]
  },
  {
   "cell_type": "code",
   "execution_count": null,
   "id": "07348e0f",
   "metadata": {},
   "outputs": [],
   "source": [
    "from tensorflow.keras.utils import Sequence\n",
    "from sklearn.utils import shuffle\n",
    "from tensorflow.keras.applications.xception import preprocess_input\n",
    "import math\n",
    "\n",
    "class CustomSequence(Sequence):\n",
    "    def __init__(self, filenames, target, batch_size, aug=None, shuffle=False):\n",
    "        # image의 절대경로들\n",
    "        self.filenames = filenames\n",
    "        self.target = target\n",
    "        self.batch_size = batch_size\n",
    "        # albumentation 객체\n",
    "        self.aug = aug\n",
    "        self.shuffle = shuffle\n",
    "        \n",
    "        # 훈련 데이터의 경우\n",
    "        if self.shuffle:\n",
    "            self.on_epoch_end()\n",
    "\n",
    "    def __len__(self):\n",
    "        # 총 step의 갯수\n",
    "        return math.ceil(len(self.filenames) / self.batch_size)\n",
    "\n",
    "    def __getitem__(self, index):\n",
    "        # 현재 인덱스를 기준으로 batch_size만큼 데이터를 가져옴\n",
    "        meta_data = self.filenames[index*self.batch_size:(index+1)*self.batch_size]\n",
    "        # 훈련, 검증 데이터세트인 경우\n",
    "        if self.target is not None:\n",
    "            label_batch = self.target[index*self.batch_size:(index+1)*self.batch_size]\n",
    "\n",
    "        # 불러온 meta_data를 np.array로 저장할 빈 공간을 생성\n",
    "        image_batch = np.zeros((meta_data.shape[0], img_size, img_size, img_channel))\n",
    "        for i in range(meta_data.shape[0]):\n",
    "            # cv2는 이미지를 BGR로 불러오기 때문이 RGB로 바꾸어줌\n",
    "            image = cv2.cvtColor(cv2.imread(meta_data[i]), cv2.COLOR_BGR2RGB)\n",
    "            # augmentation이 있으면 적용\n",
    "            if self.aug is not None:\n",
    "                image = self.aug(image=image)['image']\n",
    "\n",
    "            # 이미지 값을 self.pre_func 함수로 스케일링\n",
    "            image = image * 1./255\n",
    "\n",
    "            # 빈 이미지 배치에 최종 이미지를 등록\n",
    "            image_batch[i] = image\n",
    "            \n",
    "        if self.target is not None:\n",
    "            return image_batch, label_batch\n",
    "        else:\n",
    "            return image_batch\n",
    "        \n",
    "    def on_epoch_end(self):\n",
    "        # 파일과 라벨을 같이 섞어 주어야한다.\n",
    "        if self.shuffle is True:\n",
    "            self.image_filenames, self.target = shuffle(self.filenames, self.target)\n",
    "        else:\n",
    "            pass"
   ]
  },
  {
   "cell_type": "code",
   "execution_count": null,
   "id": "8dd9cd6a",
   "metadata": {},
   "outputs": [],
   "source": [
    "train_dataset = CustomSequence(X_train_img, y_train, batch, resize_crop)\n",
    "val_dataset = CustomSequence(X_val_img, y_val, batch, resize_crop)"
   ]
  },
  {
   "cell_type": "code",
   "execution_count": null,
   "id": "04446a8d",
   "metadata": {},
   "outputs": [],
   "source": [
    "len(train_dataset)"
   ]
  },
  {
   "cell_type": "markdown",
   "id": "b1cb1f49",
   "metadata": {},
   "source": [
    "dataset이 잘 되었는지 확인용"
   ]
  },
  {
   "cell_type": "code",
   "execution_count": null,
   "id": "0f28b575",
   "metadata": {},
   "outputs": [],
   "source": [
    "def show_first_data(dataset, image_verbose=False):\n",
    "    first_data = next(iter(dataset))\n",
    "    images = first_data[0]\n",
    "    labels = first_data[1]\n",
    "    print(images.shape, labels.shape)\n",
    "    print(images[0])\n",
    "    if image_verbose:\n",
    "        fig, axs = plt.subplots(figsize=(20, 8), nrows=1, ncols=4)\n",
    "        for i in range(4):\n",
    "            axs[i].imshow(np.array(images[i], dtype='int32'))"
   ]
  },
  {
   "cell_type": "code",
   "execution_count": null,
   "id": "e1137156",
   "metadata": {
    "scrolled": true
   },
   "outputs": [],
   "source": [
    "show_first_data(train_dataset)"
   ]
  },
  {
   "cell_type": "markdown",
   "id": "0de28227",
   "metadata": {},
   "source": [
    "CNN 모델 생성(inceptionV3)"
   ]
  },
  {
   "cell_type": "code",
   "execution_count": null,
   "id": "7420a391",
   "metadata": {},
   "outputs": [],
   "source": [
    "def make_model():\n",
    "    base_model = keras.applications.InceptionV3(include_top = False, weights = 'imagenet', input_shape = (img_size, img_size, 3), pooling = None)\n",
    "    x = base_model.output\n",
    "    x = keras.layers.GlobalAveragePooling2D()(x)\n",
    "    x = keras.layers.Dense(512, kernel_initializer = 'lecun_normal', activation = 'selu')(x)\n",
    "    x = keras.layers.Dense(256, kernel_initializer = 'lecun_normal', activation = 'selu')(x)\n",
    "    x = keras.layers.Dense(128, kernel_initializer = 'lecun_normal', activation = 'selu')(x)\n",
    "    x = keras.layers.Dense(64, kernel_initializer = 'lecun_normal', activation = 'selu')(x)\n",
    "    predictions = keras.layers.Dense(1, activation = 'sigmoid')(x)\n",
    "\n",
    "    model = keras.models.Model(inputs=base_model.input, outputs=predictions)    \n",
    "    return model"
   ]
  },
  {
   "cell_type": "code",
   "execution_count": null,
   "id": "60d4d67a",
   "metadata": {},
   "outputs": [],
   "source": [
    "img_model = make_model()"
   ]
  },
  {
   "cell_type": "markdown",
   "id": "faf1e3da",
   "metadata": {},
   "source": [
    "callback함수(ReduceLROnPlateau, EarlyStopping, Checkpoint)  \n",
    "  \n",
    "val로 성능 확인하면서 3번 이상 성능 감소 안하면 learning late감소, 10번 val 성능이 감소 안하면 정지,  \n",
    "가장 좋은 모델로 Callback)  "
   ]
  },
  {
   "cell_type": "code",
   "execution_count": null,
   "id": "47d89434",
   "metadata": {},
   "outputs": [],
   "source": [
    "reduce_lr = keras.callbacks.ReduceLROnPlateau(monitor='val_loss', factor=0.5, patience=3, verbose=1, mode = 'min')\n",
    "ES = keras.callbacks.EarlyStopping(monitor='val_loss', patience=10)\n",
    "checkpoint_cb = keras.callbacks.ModelCheckpoint('img_model.h5', save_best_only=True)"
   ]
  },
  {
   "cell_type": "code",
   "execution_count": null,
   "id": "e77a35ba",
   "metadata": {
    "scrolled": true
   },
   "outputs": [],
   "source": [
    "img_model.compile(loss='binary_crossentropy',\n",
    "                  optimizer='adam',\n",
    "                  metrics=['acc'])\n",
    "\n",
    "img_model.fit(train_dataset, batch_size = batch,\n",
    "              validation_data = val_dataset,\n",
    "              epochs=100, callbacks=[reduce_lr, ES, checkpoint_cb],\n",
    "              verbose = 1)"
   ]
  },
  {
   "cell_type": "markdown",
   "id": "79e70268",
   "metadata": {},
   "source": [
    "epoch가 더 늘어날 수도, 줄어들 수도 있음(제출 epoch는 16에서 정지 -> epoch = 6)"
   ]
  },
  {
   "cell_type": "markdown",
   "id": "4fe8b75b",
   "metadata": {},
   "source": [
    "test_img도 dataset으로 제작"
   ]
  },
  {
   "cell_type": "code",
   "execution_count": null,
   "id": "ccb6f590",
   "metadata": {},
   "outputs": [],
   "source": [
    "test_dataset = CustomSequence(test_img, None, batch, resize_crop)"
   ]
  },
  {
   "cell_type": "code",
   "execution_count": null,
   "id": "33dd1897",
   "metadata": {},
   "outputs": [],
   "source": [
    "test_dataset"
   ]
  },
  {
   "cell_type": "markdown",
   "id": "622aae3e",
   "metadata": {},
   "source": [
    "CNN에서 predict를 하면, 0에서 1 사이의 값이 나온다.(확률)  \n",
    "이는 1로 될 확률과 같으므로, 0일 때의 확률은 1 - predict이고, 1일 때의 확률은 predict로 하는 array를 생성한다."
   ]
  },
  {
   "cell_type": "code",
   "execution_count": null,
   "id": "86d6b673",
   "metadata": {},
   "outputs": [],
   "source": [
    "def img_predict_proba(model, test_dataset):\n",
    "    img_pred = model.predict(test_dataset)\n",
    "    pred_test = np.zeros((len(img_pred), 2))\n",
    "\n",
    "    for i in range(0, len(img_pred)):\n",
    "        pred_test[i][0] = (1 - img_pred[i])\n",
    "        pred_test[i][1] = img_pred[i]\n",
    "\n",
    "    return pred_test"
   ]
  },
  {
   "cell_type": "code",
   "execution_count": null,
   "id": "8a209b94",
   "metadata": {},
   "outputs": [],
   "source": [
    "img_pred = img_predict_proba(img_model, test_dataset)"
   ]
  },
  {
   "cell_type": "markdown",
   "id": "e979341f",
   "metadata": {},
   "source": [
    "val_dataset으로 f1_score 확인"
   ]
  },
  {
   "cell_type": "code",
   "execution_count": null,
   "id": "d69a9bb0",
   "metadata": {},
   "outputs": [],
   "source": [
    "scoring(y_val, np.argmax(img_predict_proba(img_model, val_dataset), axis = 1))"
   ]
  },
  {
   "cell_type": "markdown",
   "id": "a9cdc33e",
   "metadata": {},
   "source": [
    "xgb, rf, cat, lgbm과 img 확률들을 더해 최종 예측 생성(각각 0.2씩)"
   ]
  },
  {
   "cell_type": "code",
   "execution_count": null,
   "id": "86eda9ce",
   "metadata": {},
   "outputs": [],
   "source": [
    "pred = (img_pred + xgb_pred + rf_pred + cat_pred + lgbm_pred) / 5\n",
    "pred"
   ]
  },
  {
   "cell_type": "markdown",
   "id": "312f485b",
   "metadata": {},
   "source": [
    "np.argmax를 이용해 확인"
   ]
  },
  {
   "cell_type": "code",
   "execution_count": null,
   "id": "cca991df",
   "metadata": {},
   "outputs": [],
   "source": [
    "np.argmax(pred, axis = 1)"
   ]
  },
  {
   "cell_type": "markdown",
   "id": "b3ce7869",
   "metadata": {},
   "source": [
    "submission csv생성"
   ]
  },
  {
   "cell_type": "code",
   "execution_count": null,
   "id": "e9ac27db",
   "metadata": {},
   "outputs": [],
   "source": [
    "output = pd.DataFrame({'ID' : test['ID'], 'N_category':np.argmax(pred, axis = 1)})\n",
    "output.to_csv('final_school.csv', index=False)\n",
    "print(\"Your submission was successfully saved!\")"
   ]
  },
  {
   "cell_type": "code",
   "execution_count": null,
   "id": "4ad4c06b",
   "metadata": {},
   "outputs": [],
   "source": []
  }
 ],
 "metadata": {
  "kernelspec": {
   "display_name": "Python 3 (ipykernel)",
   "language": "python",
   "name": "python3"
  },
  "language_info": {
   "codemirror_mode": {
    "name": "ipython",
    "version": 3
   },
   "file_extension": ".py",
   "mimetype": "text/x-python",
   "name": "python",
   "nbconvert_exporter": "python",
   "pygments_lexer": "ipython3",
   "version": "3.9.12"
  }
 },
 "nbformat": 4,
 "nbformat_minor": 5
}
